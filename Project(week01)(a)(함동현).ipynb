{
  "nbformat": 4,
  "nbformat_minor": 0,
  "metadata": {
    "colab": {
      "provenance": [],
      "collapsed_sections": [
        "ZpExRKCyey0D",
        "WYGCXBWKgQ0M",
        "v-N1Dd7ge81z",
        "y2uBsFd-hIWn",
        "axVXfR_QEYBZ"
      ],
      "gpuType": "T4",
      "authorship_tag": "ABX9TyPeKnoBF2SggWlhxfQdVJTZ",
      "include_colab_link": true
    },
    "kernelspec": {
      "name": "python3",
      "display_name": "Python 3"
    },
    "language_info": {
      "name": "python"
    },
    "accelerator": "GPU"
  },
  "cells": [
    {
      "cell_type": "markdown",
      "metadata": {
        "id": "view-in-github",
        "colab_type": "text"
      },
      "source": [
        "<a href=\"https://colab.research.google.com/github/DongHyun-Ham/my-project/blob/main/Project(week01)(a)(%ED%95%A8%EB%8F%99%ED%98%84).ipynb\" target=\"_parent\"><img src=\"https://colab.research.google.com/assets/colab-badge.svg\" alt=\"Open In Colab\"/></a>"
      ]
    },
    {
      "cell_type": "markdown",
      "source": [
        "# 기본 세팅"
      ],
      "metadata": {
        "id": "ZpExRKCyey0D"
      }
    },
    {
      "cell_type": "code",
      "execution_count": 2,
      "metadata": {
        "colab": {
          "base_uri": "https://localhost:8080/"
        },
        "id": "pa9EcrMV_Vdc",
        "outputId": "acffbd01-fb09-4ec9-f654-dc90d5153354"
      },
      "outputs": [
        {
          "output_type": "stream",
          "name": "stdout",
          "text": [
            "Requirement already satisfied: koreanize-matplotlib in /usr/local/lib/python3.11/dist-packages (0.1.1)\n",
            "Requirement already satisfied: matplotlib in /usr/local/lib/python3.11/dist-packages (from koreanize-matplotlib) (3.10.0)\n",
            "Requirement already satisfied: contourpy>=1.0.1 in /usr/local/lib/python3.11/dist-packages (from matplotlib->koreanize-matplotlib) (1.3.1)\n",
            "Requirement already satisfied: cycler>=0.10 in /usr/local/lib/python3.11/dist-packages (from matplotlib->koreanize-matplotlib) (0.12.1)\n",
            "Requirement already satisfied: fonttools>=4.22.0 in /usr/local/lib/python3.11/dist-packages (from matplotlib->koreanize-matplotlib) (4.56.0)\n",
            "Requirement already satisfied: kiwisolver>=1.3.1 in /usr/local/lib/python3.11/dist-packages (from matplotlib->koreanize-matplotlib) (1.4.8)\n",
            "Requirement already satisfied: numpy>=1.23 in /usr/local/lib/python3.11/dist-packages (from matplotlib->koreanize-matplotlib) (2.0.2)\n",
            "Requirement already satisfied: packaging>=20.0 in /usr/local/lib/python3.11/dist-packages (from matplotlib->koreanize-matplotlib) (24.2)\n",
            "Requirement already satisfied: pillow>=8 in /usr/local/lib/python3.11/dist-packages (from matplotlib->koreanize-matplotlib) (11.1.0)\n",
            "Requirement already satisfied: pyparsing>=2.3.1 in /usr/local/lib/python3.11/dist-packages (from matplotlib->koreanize-matplotlib) (3.2.1)\n",
            "Requirement already satisfied: python-dateutil>=2.7 in /usr/local/lib/python3.11/dist-packages (from matplotlib->koreanize-matplotlib) (2.8.2)\n",
            "Requirement already satisfied: six>=1.5 in /usr/local/lib/python3.11/dist-packages (from python-dateutil>=2.7->matplotlib->koreanize-matplotlib) (1.17.0)\n"
          ]
        }
      ],
      "source": [
        "!pip install koreanize-matplotlib"
      ]
    },
    {
      "cell_type": "code",
      "source": [
        "import koreanize_matplotlib\n",
        "import numpy as np\n",
        "import pandas as pd\n",
        "import matplotlib.pyplot as plt\n",
        "import seaborn as sns"
      ],
      "metadata": {
        "id": "n5lmrLab_lnV"
      },
      "execution_count": 3,
      "outputs": []
    },
    {
      "cell_type": "code",
      "source": [
        "df = pd.read_csv('서울일자리포털_인재정보_직종별,지역별_목록_20250325.csv', encoding='cp949')\n",
        "df"
      ],
      "metadata": {
        "id": "UWgovXhH_vY-",
        "colab": {
          "base_uri": "https://localhost:8080/",
          "height": 617
        },
        "outputId": "19ffae3a-ed5a-4004-eaa8-5be2f697d078"
      },
      "execution_count": 4,
      "outputs": [
        {
          "output_type": "execute_result",
          "data": {
            "text/plain": [
              "        JBHNT_REQST_NO SEX  AGE ACDMCR_CMMN_CODE_SE ACDMCR_CMMN_CODE_NM  \\\n",
              "0     H103202409302766   여   67              J00106                고등학교   \n",
              "1     H103202409302619   남   65              J00110              대학_대학교   \n",
              "2     H103202409302613   여   62              J00106                고등학교   \n",
              "3     H103202409302600   여   57              J00108                전문대학   \n",
              "4     H103202409302599   여   64              J00106                고등학교   \n",
              "...                ...  ..  ...                 ...                 ...   \n",
              "3678  H304201608292024   남   18              J00106                고등학교   \n",
              "3679  H304201608291865   남   18              J00106                고등학교   \n",
              "3680  H304201407291172   남   17              J00108                전문대학   \n",
              "3681  H316201407290473   여   18              J00106                고등학교   \n",
              "3682  H304201406200533   남   17              J00106                고등학교   \n",
              "\n",
              "     WORK_AREA_CMMN_CODE_SE_1_1 WORK_AREA_CMMN_CODE_SE_1_2  \\\n",
              "0                            서울                        강서구   \n",
              "1                            경기                        김포시   \n",
              "2                            서울                        강서구   \n",
              "3                            서울                        강서구   \n",
              "4                            서울                        NaN   \n",
              "...                         ...                        ...   \n",
              "3678                         서울                       동대문구   \n",
              "3679                         서울                        중랑구   \n",
              "3680                         서울                        NaN   \n",
              "3681                         서울                        금천구   \n",
              "3682                         서울                        NaN   \n",
              "\n",
              "     WORK_AREA_CMMN_CODE_SE_2_1 WORK_AREA_CMMN_CODE_SE_2_2  \\\n",
              "0                            서울                        NaN   \n",
              "1                           NaN                        NaN   \n",
              "2                            서울                        NaN   \n",
              "3                            서울                        NaN   \n",
              "4                           NaN                        NaN   \n",
              "...                         ...                        ...   \n",
              "3678                         서울                        NaN   \n",
              "3679                         서울                        NaN   \n",
              "3680                        NaN                        NaN   \n",
              "3681                         서울                        NaN   \n",
              "3682                        NaN                        NaN   \n",
              "\n",
              "      HOPE_JSSFC_CMMN_CODE_SE_1  ... HOPE_JSSFC_CAREER_YY_MM  \\\n",
              "0                        550200  ...                   10년0월   \n",
              "1                        542000  ...                      신입   \n",
              "2                        232100  ...                   10년0월   \n",
              "3                         29900  ...                      신입   \n",
              "4                        215301  ...                   10년0월   \n",
              "...                         ...  ...                     ...   \n",
              "3678                      26301  ...                      신입   \n",
              "3679                     541901  ...                      신입   \n",
              "3680                      32100  ...                      신입   \n",
              "3681                     816100  ...                      신입   \n",
              "3682                     835200  ...                      신입   \n",
              "\n",
              "      JBHNT_CRTFC_STTUS_CMMN_SE  JBHNT_CRTFC_STTUS_CMMN_SE_NM SEARCH_KWRD_1  \\\n",
              "0                        J03402                            승인           NaN   \n",
              "1                        J03402                            승인           NaN   \n",
              "2                        J03402                            승인           NaN   \n",
              "3                        J03402                            승인           NaN   \n",
              "4                        J03402                            승인           NaN   \n",
              "...                         ...                           ...           ...   \n",
              "3678                     J03405                          알선대기           NaN   \n",
              "3679                     J03404                            알선           NaN   \n",
              "3680                     J03404                            알선           NaN   \n",
              "3681                     J03404                            알선           NaN   \n",
              "3682                     J03404                            알선           NaN   \n",
              "\n",
              "     SEARCH_KWRD_2 SEARCH_KWRD_3 SEARCH_KWRD_4 SEARCH_KWRD_5  \\\n",
              "0              NaN           NaN           NaN           NaN   \n",
              "1              NaN           NaN           NaN           NaN   \n",
              "2              NaN           NaN           NaN           NaN   \n",
              "3              NaN           NaN           NaN           NaN   \n",
              "4              NaN           NaN           NaN           NaN   \n",
              "...            ...           ...           ...           ...   \n",
              "3678           NaN           NaN           NaN           NaN   \n",
              "3679           NaN           NaN           NaN           NaN   \n",
              "3680           NaN           NaN           NaN           NaN   \n",
              "3681           NaN           NaN           NaN           NaN   \n",
              "3682           NaN           NaN           NaN           NaN   \n",
              "\n",
              "                 REGIST_DT_HM               UPDT_DT_HM  \n",
              "0     2024-09-30 23:01:05.000  2024-09-30 23:01:09.000  \n",
              "1     2024-09-30 20:30:10.000  2024-09-30 20:30:16.000  \n",
              "2     2024-09-30 20:22:36.000  2024-09-30 20:22:42.000  \n",
              "3     2024-09-30 20:20:53.000  2024-09-30 20:21:09.000  \n",
              "4     2024-09-30 20:18:28.000  2024-09-30 20:18:33.000  \n",
              "...                       ...                      ...  \n",
              "3678  2016-08-29 14:39:25.000  2016-08-29 14:39:28.000  \n",
              "3679  2016-08-29 14:16:19.000  2016-08-29 14:16:22.000  \n",
              "3680  2014-07-29 12:58:01.000  2014-07-29 12:58:39.000  \n",
              "3681  2014-07-29 09:16:25.000  2014-07-29 09:16:28.000  \n",
              "3682  2014-06-20 14:00:39.000  2014-06-20 14:00:55.000  \n",
              "\n",
              "[3683 rows x 23 columns]"
            ],
            "text/html": [
              "\n",
              "  <div id=\"df-b5c250a3-08e0-4bfd-8864-64964c50b119\" class=\"colab-df-container\">\n",
              "    <div>\n",
              "<style scoped>\n",
              "    .dataframe tbody tr th:only-of-type {\n",
              "        vertical-align: middle;\n",
              "    }\n",
              "\n",
              "    .dataframe tbody tr th {\n",
              "        vertical-align: top;\n",
              "    }\n",
              "\n",
              "    .dataframe thead th {\n",
              "        text-align: right;\n",
              "    }\n",
              "</style>\n",
              "<table border=\"1\" class=\"dataframe\">\n",
              "  <thead>\n",
              "    <tr style=\"text-align: right;\">\n",
              "      <th></th>\n",
              "      <th>JBHNT_REQST_NO</th>\n",
              "      <th>SEX</th>\n",
              "      <th>AGE</th>\n",
              "      <th>ACDMCR_CMMN_CODE_SE</th>\n",
              "      <th>ACDMCR_CMMN_CODE_NM</th>\n",
              "      <th>WORK_AREA_CMMN_CODE_SE_1_1</th>\n",
              "      <th>WORK_AREA_CMMN_CODE_SE_1_2</th>\n",
              "      <th>WORK_AREA_CMMN_CODE_SE_2_1</th>\n",
              "      <th>WORK_AREA_CMMN_CODE_SE_2_2</th>\n",
              "      <th>HOPE_JSSFC_CMMN_CODE_SE_1</th>\n",
              "      <th>...</th>\n",
              "      <th>HOPE_JSSFC_CAREER_YY_MM</th>\n",
              "      <th>JBHNT_CRTFC_STTUS_CMMN_SE</th>\n",
              "      <th>JBHNT_CRTFC_STTUS_CMMN_SE_NM</th>\n",
              "      <th>SEARCH_KWRD_1</th>\n",
              "      <th>SEARCH_KWRD_2</th>\n",
              "      <th>SEARCH_KWRD_3</th>\n",
              "      <th>SEARCH_KWRD_4</th>\n",
              "      <th>SEARCH_KWRD_5</th>\n",
              "      <th>REGIST_DT_HM</th>\n",
              "      <th>UPDT_DT_HM</th>\n",
              "    </tr>\n",
              "  </thead>\n",
              "  <tbody>\n",
              "    <tr>\n",
              "      <th>0</th>\n",
              "      <td>H103202409302766</td>\n",
              "      <td>여</td>\n",
              "      <td>67</td>\n",
              "      <td>J00106</td>\n",
              "      <td>고등학교</td>\n",
              "      <td>서울</td>\n",
              "      <td>강서구</td>\n",
              "      <td>서울</td>\n",
              "      <td>NaN</td>\n",
              "      <td>550200</td>\n",
              "      <td>...</td>\n",
              "      <td>10년0월</td>\n",
              "      <td>J03402</td>\n",
              "      <td>승인</td>\n",
              "      <td>NaN</td>\n",
              "      <td>NaN</td>\n",
              "      <td>NaN</td>\n",
              "      <td>NaN</td>\n",
              "      <td>NaN</td>\n",
              "      <td>2024-09-30 23:01:05.000</td>\n",
              "      <td>2024-09-30 23:01:09.000</td>\n",
              "    </tr>\n",
              "    <tr>\n",
              "      <th>1</th>\n",
              "      <td>H103202409302619</td>\n",
              "      <td>남</td>\n",
              "      <td>65</td>\n",
              "      <td>J00110</td>\n",
              "      <td>대학_대학교</td>\n",
              "      <td>경기</td>\n",
              "      <td>김포시</td>\n",
              "      <td>NaN</td>\n",
              "      <td>NaN</td>\n",
              "      <td>542000</td>\n",
              "      <td>...</td>\n",
              "      <td>신입</td>\n",
              "      <td>J03402</td>\n",
              "      <td>승인</td>\n",
              "      <td>NaN</td>\n",
              "      <td>NaN</td>\n",
              "      <td>NaN</td>\n",
              "      <td>NaN</td>\n",
              "      <td>NaN</td>\n",
              "      <td>2024-09-30 20:30:10.000</td>\n",
              "      <td>2024-09-30 20:30:16.000</td>\n",
              "    </tr>\n",
              "    <tr>\n",
              "      <th>2</th>\n",
              "      <td>H103202409302613</td>\n",
              "      <td>여</td>\n",
              "      <td>62</td>\n",
              "      <td>J00106</td>\n",
              "      <td>고등학교</td>\n",
              "      <td>서울</td>\n",
              "      <td>강서구</td>\n",
              "      <td>서울</td>\n",
              "      <td>NaN</td>\n",
              "      <td>232100</td>\n",
              "      <td>...</td>\n",
              "      <td>10년0월</td>\n",
              "      <td>J03402</td>\n",
              "      <td>승인</td>\n",
              "      <td>NaN</td>\n",
              "      <td>NaN</td>\n",
              "      <td>NaN</td>\n",
              "      <td>NaN</td>\n",
              "      <td>NaN</td>\n",
              "      <td>2024-09-30 20:22:36.000</td>\n",
              "      <td>2024-09-30 20:22:42.000</td>\n",
              "    </tr>\n",
              "    <tr>\n",
              "      <th>3</th>\n",
              "      <td>H103202409302600</td>\n",
              "      <td>여</td>\n",
              "      <td>57</td>\n",
              "      <td>J00108</td>\n",
              "      <td>전문대학</td>\n",
              "      <td>서울</td>\n",
              "      <td>강서구</td>\n",
              "      <td>서울</td>\n",
              "      <td>NaN</td>\n",
              "      <td>29900</td>\n",
              "      <td>...</td>\n",
              "      <td>신입</td>\n",
              "      <td>J03402</td>\n",
              "      <td>승인</td>\n",
              "      <td>NaN</td>\n",
              "      <td>NaN</td>\n",
              "      <td>NaN</td>\n",
              "      <td>NaN</td>\n",
              "      <td>NaN</td>\n",
              "      <td>2024-09-30 20:20:53.000</td>\n",
              "      <td>2024-09-30 20:21:09.000</td>\n",
              "    </tr>\n",
              "    <tr>\n",
              "      <th>4</th>\n",
              "      <td>H103202409302599</td>\n",
              "      <td>여</td>\n",
              "      <td>64</td>\n",
              "      <td>J00106</td>\n",
              "      <td>고등학교</td>\n",
              "      <td>서울</td>\n",
              "      <td>NaN</td>\n",
              "      <td>NaN</td>\n",
              "      <td>NaN</td>\n",
              "      <td>215301</td>\n",
              "      <td>...</td>\n",
              "      <td>10년0월</td>\n",
              "      <td>J03402</td>\n",
              "      <td>승인</td>\n",
              "      <td>NaN</td>\n",
              "      <td>NaN</td>\n",
              "      <td>NaN</td>\n",
              "      <td>NaN</td>\n",
              "      <td>NaN</td>\n",
              "      <td>2024-09-30 20:18:28.000</td>\n",
              "      <td>2024-09-30 20:18:33.000</td>\n",
              "    </tr>\n",
              "    <tr>\n",
              "      <th>...</th>\n",
              "      <td>...</td>\n",
              "      <td>...</td>\n",
              "      <td>...</td>\n",
              "      <td>...</td>\n",
              "      <td>...</td>\n",
              "      <td>...</td>\n",
              "      <td>...</td>\n",
              "      <td>...</td>\n",
              "      <td>...</td>\n",
              "      <td>...</td>\n",
              "      <td>...</td>\n",
              "      <td>...</td>\n",
              "      <td>...</td>\n",
              "      <td>...</td>\n",
              "      <td>...</td>\n",
              "      <td>...</td>\n",
              "      <td>...</td>\n",
              "      <td>...</td>\n",
              "      <td>...</td>\n",
              "      <td>...</td>\n",
              "      <td>...</td>\n",
              "    </tr>\n",
              "    <tr>\n",
              "      <th>3678</th>\n",
              "      <td>H304201608292024</td>\n",
              "      <td>남</td>\n",
              "      <td>18</td>\n",
              "      <td>J00106</td>\n",
              "      <td>고등학교</td>\n",
              "      <td>서울</td>\n",
              "      <td>동대문구</td>\n",
              "      <td>서울</td>\n",
              "      <td>NaN</td>\n",
              "      <td>26301</td>\n",
              "      <td>...</td>\n",
              "      <td>신입</td>\n",
              "      <td>J03405</td>\n",
              "      <td>알선대기</td>\n",
              "      <td>NaN</td>\n",
              "      <td>NaN</td>\n",
              "      <td>NaN</td>\n",
              "      <td>NaN</td>\n",
              "      <td>NaN</td>\n",
              "      <td>2016-08-29 14:39:25.000</td>\n",
              "      <td>2016-08-29 14:39:28.000</td>\n",
              "    </tr>\n",
              "    <tr>\n",
              "      <th>3679</th>\n",
              "      <td>H304201608291865</td>\n",
              "      <td>남</td>\n",
              "      <td>18</td>\n",
              "      <td>J00106</td>\n",
              "      <td>고등학교</td>\n",
              "      <td>서울</td>\n",
              "      <td>중랑구</td>\n",
              "      <td>서울</td>\n",
              "      <td>NaN</td>\n",
              "      <td>541901</td>\n",
              "      <td>...</td>\n",
              "      <td>신입</td>\n",
              "      <td>J03404</td>\n",
              "      <td>알선</td>\n",
              "      <td>NaN</td>\n",
              "      <td>NaN</td>\n",
              "      <td>NaN</td>\n",
              "      <td>NaN</td>\n",
              "      <td>NaN</td>\n",
              "      <td>2016-08-29 14:16:19.000</td>\n",
              "      <td>2016-08-29 14:16:22.000</td>\n",
              "    </tr>\n",
              "    <tr>\n",
              "      <th>3680</th>\n",
              "      <td>H304201407291172</td>\n",
              "      <td>남</td>\n",
              "      <td>17</td>\n",
              "      <td>J00108</td>\n",
              "      <td>전문대학</td>\n",
              "      <td>서울</td>\n",
              "      <td>NaN</td>\n",
              "      <td>NaN</td>\n",
              "      <td>NaN</td>\n",
              "      <td>32100</td>\n",
              "      <td>...</td>\n",
              "      <td>신입</td>\n",
              "      <td>J03404</td>\n",
              "      <td>알선</td>\n",
              "      <td>NaN</td>\n",
              "      <td>NaN</td>\n",
              "      <td>NaN</td>\n",
              "      <td>NaN</td>\n",
              "      <td>NaN</td>\n",
              "      <td>2014-07-29 12:58:01.000</td>\n",
              "      <td>2014-07-29 12:58:39.000</td>\n",
              "    </tr>\n",
              "    <tr>\n",
              "      <th>3681</th>\n",
              "      <td>H316201407290473</td>\n",
              "      <td>여</td>\n",
              "      <td>18</td>\n",
              "      <td>J00106</td>\n",
              "      <td>고등학교</td>\n",
              "      <td>서울</td>\n",
              "      <td>금천구</td>\n",
              "      <td>서울</td>\n",
              "      <td>NaN</td>\n",
              "      <td>816100</td>\n",
              "      <td>...</td>\n",
              "      <td>신입</td>\n",
              "      <td>J03404</td>\n",
              "      <td>알선</td>\n",
              "      <td>NaN</td>\n",
              "      <td>NaN</td>\n",
              "      <td>NaN</td>\n",
              "      <td>NaN</td>\n",
              "      <td>NaN</td>\n",
              "      <td>2014-07-29 09:16:25.000</td>\n",
              "      <td>2014-07-29 09:16:28.000</td>\n",
              "    </tr>\n",
              "    <tr>\n",
              "      <th>3682</th>\n",
              "      <td>H304201406200533</td>\n",
              "      <td>남</td>\n",
              "      <td>17</td>\n",
              "      <td>J00106</td>\n",
              "      <td>고등학교</td>\n",
              "      <td>서울</td>\n",
              "      <td>NaN</td>\n",
              "      <td>NaN</td>\n",
              "      <td>NaN</td>\n",
              "      <td>835200</td>\n",
              "      <td>...</td>\n",
              "      <td>신입</td>\n",
              "      <td>J03404</td>\n",
              "      <td>알선</td>\n",
              "      <td>NaN</td>\n",
              "      <td>NaN</td>\n",
              "      <td>NaN</td>\n",
              "      <td>NaN</td>\n",
              "      <td>NaN</td>\n",
              "      <td>2014-06-20 14:00:39.000</td>\n",
              "      <td>2014-06-20 14:00:55.000</td>\n",
              "    </tr>\n",
              "  </tbody>\n",
              "</table>\n",
              "<p>3683 rows × 23 columns</p>\n",
              "</div>\n",
              "    <div class=\"colab-df-buttons\">\n",
              "\n",
              "  <div class=\"colab-df-container\">\n",
              "    <button class=\"colab-df-convert\" onclick=\"convertToInteractive('df-b5c250a3-08e0-4bfd-8864-64964c50b119')\"\n",
              "            title=\"Convert this dataframe to an interactive table.\"\n",
              "            style=\"display:none;\">\n",
              "\n",
              "  <svg xmlns=\"http://www.w3.org/2000/svg\" height=\"24px\" viewBox=\"0 -960 960 960\">\n",
              "    <path d=\"M120-120v-720h720v720H120Zm60-500h600v-160H180v160Zm220 220h160v-160H400v160Zm0 220h160v-160H400v160ZM180-400h160v-160H180v160Zm440 0h160v-160H620v160ZM180-180h160v-160H180v160Zm440 0h160v-160H620v160Z\"/>\n",
              "  </svg>\n",
              "    </button>\n",
              "\n",
              "  <style>\n",
              "    .colab-df-container {\n",
              "      display:flex;\n",
              "      gap: 12px;\n",
              "    }\n",
              "\n",
              "    .colab-df-convert {\n",
              "      background-color: #E8F0FE;\n",
              "      border: none;\n",
              "      border-radius: 50%;\n",
              "      cursor: pointer;\n",
              "      display: none;\n",
              "      fill: #1967D2;\n",
              "      height: 32px;\n",
              "      padding: 0 0 0 0;\n",
              "      width: 32px;\n",
              "    }\n",
              "\n",
              "    .colab-df-convert:hover {\n",
              "      background-color: #E2EBFA;\n",
              "      box-shadow: 0px 1px 2px rgba(60, 64, 67, 0.3), 0px 1px 3px 1px rgba(60, 64, 67, 0.15);\n",
              "      fill: #174EA6;\n",
              "    }\n",
              "\n",
              "    .colab-df-buttons div {\n",
              "      margin-bottom: 4px;\n",
              "    }\n",
              "\n",
              "    [theme=dark] .colab-df-convert {\n",
              "      background-color: #3B4455;\n",
              "      fill: #D2E3FC;\n",
              "    }\n",
              "\n",
              "    [theme=dark] .colab-df-convert:hover {\n",
              "      background-color: #434B5C;\n",
              "      box-shadow: 0px 1px 3px 1px rgba(0, 0, 0, 0.15);\n",
              "      filter: drop-shadow(0px 1px 2px rgba(0, 0, 0, 0.3));\n",
              "      fill: #FFFFFF;\n",
              "    }\n",
              "  </style>\n",
              "\n",
              "    <script>\n",
              "      const buttonEl =\n",
              "        document.querySelector('#df-b5c250a3-08e0-4bfd-8864-64964c50b119 button.colab-df-convert');\n",
              "      buttonEl.style.display =\n",
              "        google.colab.kernel.accessAllowed ? 'block' : 'none';\n",
              "\n",
              "      async function convertToInteractive(key) {\n",
              "        const element = document.querySelector('#df-b5c250a3-08e0-4bfd-8864-64964c50b119');\n",
              "        const dataTable =\n",
              "          await google.colab.kernel.invokeFunction('convertToInteractive',\n",
              "                                                    [key], {});\n",
              "        if (!dataTable) return;\n",
              "\n",
              "        const docLinkHtml = 'Like what you see? Visit the ' +\n",
              "          '<a target=\"_blank\" href=https://colab.research.google.com/notebooks/data_table.ipynb>data table notebook</a>'\n",
              "          + ' to learn more about interactive tables.';\n",
              "        element.innerHTML = '';\n",
              "        dataTable['output_type'] = 'display_data';\n",
              "        await google.colab.output.renderOutput(dataTable, element);\n",
              "        const docLink = document.createElement('div');\n",
              "        docLink.innerHTML = docLinkHtml;\n",
              "        element.appendChild(docLink);\n",
              "      }\n",
              "    </script>\n",
              "  </div>\n",
              "\n",
              "\n",
              "<div id=\"df-4490400d-114f-47c0-9489-5d9aeecd18d4\">\n",
              "  <button class=\"colab-df-quickchart\" onclick=\"quickchart('df-4490400d-114f-47c0-9489-5d9aeecd18d4')\"\n",
              "            title=\"Suggest charts\"\n",
              "            style=\"display:none;\">\n",
              "\n",
              "<svg xmlns=\"http://www.w3.org/2000/svg\" height=\"24px\"viewBox=\"0 0 24 24\"\n",
              "     width=\"24px\">\n",
              "    <g>\n",
              "        <path d=\"M19 3H5c-1.1 0-2 .9-2 2v14c0 1.1.9 2 2 2h14c1.1 0 2-.9 2-2V5c0-1.1-.9-2-2-2zM9 17H7v-7h2v7zm4 0h-2V7h2v10zm4 0h-2v-4h2v4z\"/>\n",
              "    </g>\n",
              "</svg>\n",
              "  </button>\n",
              "\n",
              "<style>\n",
              "  .colab-df-quickchart {\n",
              "      --bg-color: #E8F0FE;\n",
              "      --fill-color: #1967D2;\n",
              "      --hover-bg-color: #E2EBFA;\n",
              "      --hover-fill-color: #174EA6;\n",
              "      --disabled-fill-color: #AAA;\n",
              "      --disabled-bg-color: #DDD;\n",
              "  }\n",
              "\n",
              "  [theme=dark] .colab-df-quickchart {\n",
              "      --bg-color: #3B4455;\n",
              "      --fill-color: #D2E3FC;\n",
              "      --hover-bg-color: #434B5C;\n",
              "      --hover-fill-color: #FFFFFF;\n",
              "      --disabled-bg-color: #3B4455;\n",
              "      --disabled-fill-color: #666;\n",
              "  }\n",
              "\n",
              "  .colab-df-quickchart {\n",
              "    background-color: var(--bg-color);\n",
              "    border: none;\n",
              "    border-radius: 50%;\n",
              "    cursor: pointer;\n",
              "    display: none;\n",
              "    fill: var(--fill-color);\n",
              "    height: 32px;\n",
              "    padding: 0;\n",
              "    width: 32px;\n",
              "  }\n",
              "\n",
              "  .colab-df-quickchart:hover {\n",
              "    background-color: var(--hover-bg-color);\n",
              "    box-shadow: 0 1px 2px rgba(60, 64, 67, 0.3), 0 1px 3px 1px rgba(60, 64, 67, 0.15);\n",
              "    fill: var(--button-hover-fill-color);\n",
              "  }\n",
              "\n",
              "  .colab-df-quickchart-complete:disabled,\n",
              "  .colab-df-quickchart-complete:disabled:hover {\n",
              "    background-color: var(--disabled-bg-color);\n",
              "    fill: var(--disabled-fill-color);\n",
              "    box-shadow: none;\n",
              "  }\n",
              "\n",
              "  .colab-df-spinner {\n",
              "    border: 2px solid var(--fill-color);\n",
              "    border-color: transparent;\n",
              "    border-bottom-color: var(--fill-color);\n",
              "    animation:\n",
              "      spin 1s steps(1) infinite;\n",
              "  }\n",
              "\n",
              "  @keyframes spin {\n",
              "    0% {\n",
              "      border-color: transparent;\n",
              "      border-bottom-color: var(--fill-color);\n",
              "      border-left-color: var(--fill-color);\n",
              "    }\n",
              "    20% {\n",
              "      border-color: transparent;\n",
              "      border-left-color: var(--fill-color);\n",
              "      border-top-color: var(--fill-color);\n",
              "    }\n",
              "    30% {\n",
              "      border-color: transparent;\n",
              "      border-left-color: var(--fill-color);\n",
              "      border-top-color: var(--fill-color);\n",
              "      border-right-color: var(--fill-color);\n",
              "    }\n",
              "    40% {\n",
              "      border-color: transparent;\n",
              "      border-right-color: var(--fill-color);\n",
              "      border-top-color: var(--fill-color);\n",
              "    }\n",
              "    60% {\n",
              "      border-color: transparent;\n",
              "      border-right-color: var(--fill-color);\n",
              "    }\n",
              "    80% {\n",
              "      border-color: transparent;\n",
              "      border-right-color: var(--fill-color);\n",
              "      border-bottom-color: var(--fill-color);\n",
              "    }\n",
              "    90% {\n",
              "      border-color: transparent;\n",
              "      border-bottom-color: var(--fill-color);\n",
              "    }\n",
              "  }\n",
              "</style>\n",
              "\n",
              "  <script>\n",
              "    async function quickchart(key) {\n",
              "      const quickchartButtonEl =\n",
              "        document.querySelector('#' + key + ' button');\n",
              "      quickchartButtonEl.disabled = true;  // To prevent multiple clicks.\n",
              "      quickchartButtonEl.classList.add('colab-df-spinner');\n",
              "      try {\n",
              "        const charts = await google.colab.kernel.invokeFunction(\n",
              "            'suggestCharts', [key], {});\n",
              "      } catch (error) {\n",
              "        console.error('Error during call to suggestCharts:', error);\n",
              "      }\n",
              "      quickchartButtonEl.classList.remove('colab-df-spinner');\n",
              "      quickchartButtonEl.classList.add('colab-df-quickchart-complete');\n",
              "    }\n",
              "    (() => {\n",
              "      let quickchartButtonEl =\n",
              "        document.querySelector('#df-4490400d-114f-47c0-9489-5d9aeecd18d4 button');\n",
              "      quickchartButtonEl.style.display =\n",
              "        google.colab.kernel.accessAllowed ? 'block' : 'none';\n",
              "    })();\n",
              "  </script>\n",
              "</div>\n",
              "\n",
              "  <div id=\"id_ed6fa115-7888-4f74-8438-f98778ec96d9\">\n",
              "    <style>\n",
              "      .colab-df-generate {\n",
              "        background-color: #E8F0FE;\n",
              "        border: none;\n",
              "        border-radius: 50%;\n",
              "        cursor: pointer;\n",
              "        display: none;\n",
              "        fill: #1967D2;\n",
              "        height: 32px;\n",
              "        padding: 0 0 0 0;\n",
              "        width: 32px;\n",
              "      }\n",
              "\n",
              "      .colab-df-generate:hover {\n",
              "        background-color: #E2EBFA;\n",
              "        box-shadow: 0px 1px 2px rgba(60, 64, 67, 0.3), 0px 1px 3px 1px rgba(60, 64, 67, 0.15);\n",
              "        fill: #174EA6;\n",
              "      }\n",
              "\n",
              "      [theme=dark] .colab-df-generate {\n",
              "        background-color: #3B4455;\n",
              "        fill: #D2E3FC;\n",
              "      }\n",
              "\n",
              "      [theme=dark] .colab-df-generate:hover {\n",
              "        background-color: #434B5C;\n",
              "        box-shadow: 0px 1px 3px 1px rgba(0, 0, 0, 0.15);\n",
              "        filter: drop-shadow(0px 1px 2px rgba(0, 0, 0, 0.3));\n",
              "        fill: #FFFFFF;\n",
              "      }\n",
              "    </style>\n",
              "    <button class=\"colab-df-generate\" onclick=\"generateWithVariable('df')\"\n",
              "            title=\"Generate code using this dataframe.\"\n",
              "            style=\"display:none;\">\n",
              "\n",
              "  <svg xmlns=\"http://www.w3.org/2000/svg\" height=\"24px\"viewBox=\"0 0 24 24\"\n",
              "       width=\"24px\">\n",
              "    <path d=\"M7,19H8.4L18.45,9,17,7.55,7,17.6ZM5,21V16.75L18.45,3.32a2,2,0,0,1,2.83,0l1.4,1.43a1.91,1.91,0,0,1,.58,1.4,1.91,1.91,0,0,1-.58,1.4L9.25,21ZM18.45,9,17,7.55Zm-12,3A5.31,5.31,0,0,0,4.9,8.1,5.31,5.31,0,0,0,1,6.5,5.31,5.31,0,0,0,4.9,4.9,5.31,5.31,0,0,0,6.5,1,5.31,5.31,0,0,0,8.1,4.9,5.31,5.31,0,0,0,12,6.5,5.46,5.46,0,0,0,6.5,12Z\"/>\n",
              "  </svg>\n",
              "    </button>\n",
              "    <script>\n",
              "      (() => {\n",
              "      const buttonEl =\n",
              "        document.querySelector('#id_ed6fa115-7888-4f74-8438-f98778ec96d9 button.colab-df-generate');\n",
              "      buttonEl.style.display =\n",
              "        google.colab.kernel.accessAllowed ? 'block' : 'none';\n",
              "\n",
              "      buttonEl.onclick = () => {\n",
              "        google.colab.notebook.generateWithVariable('df');\n",
              "      }\n",
              "      })();\n",
              "    </script>\n",
              "  </div>\n",
              "\n",
              "    </div>\n",
              "  </div>\n"
            ],
            "application/vnd.google.colaboratory.intrinsic+json": {
              "type": "dataframe",
              "variable_name": "df"
            }
          },
          "metadata": {},
          "execution_count": 4
        }
      ]
    },
    {
      "cell_type": "code",
      "source": [
        "df.info()"
      ],
      "metadata": {
        "colab": {
          "base_uri": "https://localhost:8080/"
        },
        "id": "J-b8fCKpAk7Z",
        "outputId": "1b6671f3-81a7-4204-e0ae-fac6065808fc"
      },
      "execution_count": 5,
      "outputs": [
        {
          "output_type": "stream",
          "name": "stdout",
          "text": [
            "<class 'pandas.core.frame.DataFrame'>\n",
            "RangeIndex: 3683 entries, 0 to 3682\n",
            "Data columns (total 23 columns):\n",
            " #   Column                        Non-Null Count  Dtype  \n",
            "---  ------                        --------------  -----  \n",
            " 0   JBHNT_REQST_NO                3683 non-null   object \n",
            " 1   SEX                           3683 non-null   object \n",
            " 2   AGE                           3683 non-null   int64  \n",
            " 3   ACDMCR_CMMN_CODE_SE           3683 non-null   object \n",
            " 4   ACDMCR_CMMN_CODE_NM           3683 non-null   object \n",
            " 5   WORK_AREA_CMMN_CODE_SE_1_1    3522 non-null   object \n",
            " 6   WORK_AREA_CMMN_CODE_SE_1_2    3280 non-null   object \n",
            " 7   WORK_AREA_CMMN_CODE_SE_2_1    2989 non-null   object \n",
            " 8   WORK_AREA_CMMN_CODE_SE_2_2    1366 non-null   object \n",
            " 9   HOPE_JSSFC_CMMN_CODE_SE_1     3683 non-null   int64  \n",
            " 10  HOPE_JSSFC_CMMN_CODE_SE_NM_1  3683 non-null   object \n",
            " 11  HOPE_JSSFC_CAREER_YY_CO_1     1683 non-null   float64\n",
            " 12  HOPE_JSSFC_CAREER_MONTH_CO_1  1683 non-null   float64\n",
            " 13  HOPE_JSSFC_CAREER_YY_MM       3683 non-null   object \n",
            " 14  JBHNT_CRTFC_STTUS_CMMN_SE     3683 non-null   object \n",
            " 15  JBHNT_CRTFC_STTUS_CMMN_SE_NM  3683 non-null   object \n",
            " 16  SEARCH_KWRD_1                 299 non-null    object \n",
            " 17  SEARCH_KWRD_2                 201 non-null    object \n",
            " 18  SEARCH_KWRD_3                 121 non-null    object \n",
            " 19  SEARCH_KWRD_4                 63 non-null     object \n",
            " 20  SEARCH_KWRD_5                 24 non-null     object \n",
            " 21  REGIST_DT_HM                  3683 non-null   object \n",
            " 22  UPDT_DT_HM                    3683 non-null   object \n",
            "dtypes: float64(2), int64(2), object(19)\n",
            "memory usage: 661.9+ KB\n"
          ]
        }
      ]
    },
    {
      "cell_type": "code",
      "source": [
        "df[\"HOPE_JSSFC_CMMN_CODE_SE_NM_1\"].unique()"
      ],
      "metadata": {
        "colab": {
          "base_uri": "https://localhost:8080/"
        },
        "id": "KomaFp5Uekdj",
        "outputId": "74cf063b-0e22-4a39-f097-2454d0148dc7"
      },
      "execution_count": 6,
      "outputs": [
        {
          "output_type": "execute_result",
          "data": {
            "text/plain": [
              "array(['육아 도우미(베이비시터)', '경비원(건물 관리원)', '보육 교사', '기타 사무원', '교사 보조원',\n",
              "       '사무 보조원(공공기관)', '건물 경비원(청사,학교,병원,상가,빌딩,공장 등)',\n",
              "       '건물 청소원(공공건물,아파트,사무실,병원,상가,공장 등)', '재가 요양보호사', '아파트·빌라 경비원',\n",
              "       '건물 보수원 및 영선원(아파트 기계·전기 시설관리 제외)', '청소원', '사무 보조원(일반사업체)',\n",
              "       '신문·음료(우유·요구르트 등) 기타 배달원', '단체 급식 보조원',\n",
              "       '기타 항공·철도운송종사원(항공기유도원·화물열차차장·신호수)', '주차 관리·안내원', '시설 요양보호사(노인요양사)',\n",
              "       '보일러 설치·정비원', '기계·무인 경비원(해당 경비지도사 포함)', '주방 보조원',\n",
              "       '유치원·어린이집 급식 조리사', '방역원(해충퇴치원 포함)', '사서',\n",
              "       '기타 판매 단순 종사원(전단지배포, 벽보원, 물품 보관원)', '재무·회계·경리 부서장',\n",
              "       '기타 서비스 단순 종사원', '요양 보호사 및 간병인', '관광 및 통근·통학·학원 및 기타 버스 운전원',\n",
              "       '기타 건물 관리원(공원, 종교시설 등)', '공공행정 사무원', '아파트 관리소장', '편의점 판매원',\n",
              "       '상점 판매원', '환경 미화원', '복지시설 보조원', '화학·환경·에너지 분야 단순 종사원',\n",
              "       '생활용품 대여원(정수기,가전제품,의복,어린이 용품)', '경비 관리자', '총무 및 일반 사무원',\n",
              "       '발전·배전 장치 조작원', '은행 사무원(출납창구 제외)', '컴퓨터 설치·수리원(컴퓨터A/S원)',\n",
              "       '경비·청소 관리자', '건축 목공', '기타 예능 강사(바둑·웅변·연기·꽃꽂이·종이접기 등)',\n",
              "       '기타 자동차 운전원', '지게차 운전원', '기타 사회복지 종사원', '재봉사', '사업체 구내식당 급식 조리사',\n",
              "       '영어 강사', '용접원', '배송·납품 운전원(납품영업 포함)', '자동차 정비원',\n",
              "       '금융 컨설턴트, PB 등 기타 금융·보험 전문가', '조경원', '그 외 사회복지 종사원', '대형마트 판매원',\n",
              "       '한식 조리사(일반 음식점)', '아동 생활지도원', '보육시설 서비스 종사원', '패턴사', '빌딩 관리소장',\n",
              "       '냉·난방 설비 조작원', '냉동·냉장·공조기 설치·정비원', '택배원', '산업 안전원 및 위험물 관리원',\n",
              "       '지하철 택배원', '부동산 컨설턴트 및 중개인', '소규모 매장점장(매장매니저·매장슈퍼바이저)', '사회복지사',\n",
              "       '조경 식재원', '학교행정 사무원(교무)', '건물용 냉난방 설비 조작원', '인사·교육·훈련 사무원',\n",
              "       '노선버스 운전원(시내, 마을, 시외, 고속)', '기타 판매 단순 종사원', '기계감리 기술자',\n",
              "       '기타 자동차 운전원(렌터카,구급차,우편차,자동차선적 등)', '형틀 목공(거푸집 설치공)',\n",
              "       '기타 전기·전자 기기 설치·수리원', '안내·접수원 및 전화교환원', '도시·교통 전문가',\n",
              "       '펄프·종이 제조장치 조작원', '제조 단순 종사원', '건설·채굴 단순 종사원', '주차 단속원 및 안전 순찰원',\n",
              "       'CNC 선반 조작원(NC 선반 조작원)', '재활용품 및 폐기물 수거원', '화물차·특수차 운전원',\n",
              "       '주방 보조원(일반 음식점)', '공예원', '문리·어학 강사', '매장 정리원(매장 보조원)', '예능 강사',\n",
              "       '국어 강사', '음악 강사', '독서·논술 강사', '경리 사무원', '간호조무사(요양병원 제외)',\n",
              "       '노인 생활지도원', '기타 조리사', '간호사', '섬유·의복 분야 단순 종사원',\n",
              "       '장애인 생활지도원(장애인활동보조원 포함)', '제과·제빵원', '주차 운전원', '운송 관리자(부서장)',\n",
              "       '고객 상담원 및 모니터 요원', '경·소형 화물차 운전원', '빌딩 전기관리원', '심리상담 전문가',\n",
              "       '전산자료 입력원 및 사무 보조원', '기타 서비스 단순종사원(사우나,찜질방 정리원 등)', '일식 조리사',\n",
              "       '자재·구매·물류 사무원', '대학 시간강사(초빙,겸임,BK,강의전담 교수 등 비전임교원 포함)',\n",
              "       '환경미화원 및 재활용품 수거원', '사회복지사(사회복지시설)', '교사보조 및 보육보조 서비스 종사원',\n",
              "       '공사현장 경비원', '승용차 운전원(자가용 운전원)', '고객 상담원(백화점·마트)', '승합차 운전원',\n",
              "       '건축설비 기술자', '한식 조리사', '일본어 강사', '외벽 및 창문 청소원', '회계 사무원',\n",
              "       '행정사·문서대행자', '창고 관리원(자재 검수원 포함)', '세탁원(다림질원)', '병원 코디네이터',\n",
              "       '간판 제작·설치원', '세차원 및 운송장비 청소원', '화학 제조 관리자(공장장)', '기타 경영지원 서비스 관리자',\n",
              "       '광고·홍보 전문가', '단순 경리 사무원', '계기 검침원 및 가스 점검원', '데스크 안내원',\n",
              "       '환경·청소 관리자', '부동산·임대업 관리자', '버스 운전원', '음료 조리사(바리스타 포함)', '환경 감시원',\n",
              "       '사회복지사(공공행정)', '건축 석공', '기술 영업원', '간호조무사', '특수교육 교사', '해외 영업원(영어)',\n",
              "       '임업 단순 종사원(산림보호감시, 산불감시원 등)', '아파트 전기관리원', '방문 판매원',\n",
              "       '건설·채굴 기계 운전원', '경리 사무원(아파트·빌딩)', '재가 간병인', '무용 강사', '가사 도우미',\n",
              "       '영업·판매 관리자', '교육·훈련 사무원', '수학 교사', '영업 관리자(영업소장·지점장)',\n",
              "       '식품공학 기술자 및 연구원', '시설·호송·특수 경비원(해당 경비지도사 포함)', '학교 급식 조리사',\n",
              "       '정보통신 관리자(부서장)', '백화점 판매원', '그 외 외국어 강사', '내선 전기공(건물 내 전기공사원)',\n",
              "       '통역가(중국어)', '토목감리 기술자',\n",
              "       '내장 목공(인테리어 목공 - 나무창호, 주방가구, 싱크대, 인테리어 치장)', '물건·이삿짐 운반원',\n",
              "       '콜센터 상담원(콜센터·고객센터·CS센터)', '택시 운전원', '방과후 교사 및 지도사',\n",
              "       '한국어 강사(다문화 언어지도사 포함)', '숙박시설서비스원', '기타 보건·의료 종사원',\n",
              "       '종이제품 생산기계 조작원', '굴착기(굴삭기,포클레인) 운전원', '미술 강사', '기타 배관공',\n",
              "       '공작기계 설치·정비원', '웹 기획자', '조경시설물 설치원', '가족·학교·아동·청소년·노인·중독 등 상담 전문가',\n",
              "       '청소년 지도사', '기획·마케팅 사무원', '기타 텔레마케터', '제조·생산 관리자', '협회·회원단체 사무원',\n",
              "       '데이터 전문가', 'IT 감리 전문가(시스템 감리)', '경영 기획 사무원', '번역가 및 통역가',\n",
              "       '보안 관제원(경비 관제원)', '입주 가사도우미', '식품가공 제조 관리자(공장장)', '피부 및 체형 관리사',\n",
              "       '주유원(주유판매원)', '관광통역 안내원', '홀서빙원', '각종 단체 및 기타 고객서비스 관리자',\n",
              "       '초등학교 교사', '건물 도장공', 'IT 컨설턴트', '통계·설문 조사원(슈퍼바이저 포함)',\n",
              "       '승강기 설치·정비원', '노무 사무원', '과학 강사', '인테리어 디자이너', '직업상담사',\n",
              "       '건축가(건축설계 포함)', '치과기공사', '사회복지 관리자(부서장)', '무역 사무원(영어)', '일반 영업원',\n",
              "       '공장 전기관리원', '견인차·유조차·구난차·청소차 등 특수차 운전원', '병원 급식 조리사', '미용사',\n",
              "       '기타 건설 기능원(건물해체,정화조설치,방음벽설치 등)', '반도체공학 기술자 및 연구원',\n",
              "       '법률 사무원(법원, 로펌, 법무사무소 등)', '상담 전문가', '소방시설·설비 시공 기술자',\n",
              "       '간병인(재가 제외)', '장례 지도사 및 장례 상담원', '임산물 채취 및 기타 임업 종사원',\n",
              "       '무역 사무원(중국어)', '건설 배관공', '사회복지프로그램 운영자', '섬유·의류 제조 관리자(공장장)',\n",
              "       '콘크리트공', '호송차량 운전원', '해외 영업원', '기계·금속 분야 단순 종사원',\n",
              "       '전기공사 기술자(전기견적, 공무포함)', '정부·공공 행정 전문가', '미장공', '무역 사무원',\n",
              "       '기타 보건·의료 서비스 종사원', '신용 추심원(채권 관리원)', '음식 배달원', '텔레마케터(콜센터)',\n",
              "       '회계사', '건축감리 기술자', '건축시공 기술자(건축견적, 공무포함)', '병원행정 사무원(원무)',\n",
              "       '요금 정산원(주차요금,통행료)', '기타 기술·기능 강사', '건설수주 영업원', '방재 기술자 및 연구원',\n",
              "       '박물관,미술관,문화,역사,자연환경 등 각종 해설사', '말벗,노년플래너 등 기타 개인 생활 서비스원',\n",
              "       '유통·매장·창고 감시원', '생산·품질 사무원 및 관리원(그 외 분야)', '기타 기계 조립·검사원',\n",
              "       '전기 부품·제품 생산기계 조작원', '피부 및 체형 관리사(발관리사 포함)', '중식 조리사',\n",
              "       '기타 공업기계 설치·정비원', '국악인 및 전통 예능인', '문화재보존원(컨서베이터)', '기타 경호·보안 종사원',\n",
              "       '과외 교사', '물류 사무원(물류 관리사)', '기타 음식서비스 종사원(병원 배식원)',\n",
              "       '생산·품질 사무원 및 관리원(전기·전자·컴퓨터)', '인쇄, 목재, 가구 및 기타 제조 분야 단순 종사원',\n",
              "       '마케팅·광고·홍보·상품기획 사무원', '건축안전·환경·품질·에너지관리 기술자', '인사·노무·교육·총무·감사 부서장',\n",
              "       '시민단체 활동가', '자재·구매 사무원(전기·전자·컴퓨터)', '국가·지방행정 사무원', '일반기계 조립원',\n",
              "       '전자 부품·제품 생산기계 조작원'], dtype=object)"
            ]
          },
          "metadata": {},
          "execution_count": 6
        }
      ]
    },
    {
      "cell_type": "code",
      "source": [
        "df[\"HOPE_JSSFC_CMMN_CODE_SE_NM_1\"].value_counts()"
      ],
      "metadata": {
        "colab": {
          "base_uri": "https://localhost:8080/",
          "height": 490
        },
        "id": "EvtchMj8eiaB",
        "outputId": "07a00b3a-46a6-47af-96f5-2afb9dd9d407"
      },
      "execution_count": 7,
      "outputs": [
        {
          "output_type": "execute_result",
          "data": {
            "text/plain": [
              "HOPE_JSSFC_CMMN_CODE_SE_NM_1\n",
              "건물 청소원(공공건물,아파트,사무실,병원,상가,공장 등)    593\n",
              "건물 경비원(청사,학교,병원,상가,빌딩,공장 등)        532\n",
              "경비원(건물 관리원)                        339\n",
              "청소원                                274\n",
              "재가 요양보호사                           204\n",
              "                                  ... \n",
              "시민단체 활동가                             1\n",
              "자재·구매 사무원(전기·전자·컴퓨터)                 1\n",
              "국가·지방행정 사무원                          1\n",
              "일반기계 조립원                             1\n",
              "전자 부품·제품 생산기계 조작원                    1\n",
              "Name: count, Length: 282, dtype: int64"
            ],
            "text/html": [
              "<div>\n",
              "<style scoped>\n",
              "    .dataframe tbody tr th:only-of-type {\n",
              "        vertical-align: middle;\n",
              "    }\n",
              "\n",
              "    .dataframe tbody tr th {\n",
              "        vertical-align: top;\n",
              "    }\n",
              "\n",
              "    .dataframe thead th {\n",
              "        text-align: right;\n",
              "    }\n",
              "</style>\n",
              "<table border=\"1\" class=\"dataframe\">\n",
              "  <thead>\n",
              "    <tr style=\"text-align: right;\">\n",
              "      <th></th>\n",
              "      <th>count</th>\n",
              "    </tr>\n",
              "    <tr>\n",
              "      <th>HOPE_JSSFC_CMMN_CODE_SE_NM_1</th>\n",
              "      <th></th>\n",
              "    </tr>\n",
              "  </thead>\n",
              "  <tbody>\n",
              "    <tr>\n",
              "      <th>건물 청소원(공공건물,아파트,사무실,병원,상가,공장 등)</th>\n",
              "      <td>593</td>\n",
              "    </tr>\n",
              "    <tr>\n",
              "      <th>건물 경비원(청사,학교,병원,상가,빌딩,공장 등)</th>\n",
              "      <td>532</td>\n",
              "    </tr>\n",
              "    <tr>\n",
              "      <th>경비원(건물 관리원)</th>\n",
              "      <td>339</td>\n",
              "    </tr>\n",
              "    <tr>\n",
              "      <th>청소원</th>\n",
              "      <td>274</td>\n",
              "    </tr>\n",
              "    <tr>\n",
              "      <th>재가 요양보호사</th>\n",
              "      <td>204</td>\n",
              "    </tr>\n",
              "    <tr>\n",
              "      <th>...</th>\n",
              "      <td>...</td>\n",
              "    </tr>\n",
              "    <tr>\n",
              "      <th>시민단체 활동가</th>\n",
              "      <td>1</td>\n",
              "    </tr>\n",
              "    <tr>\n",
              "      <th>자재·구매 사무원(전기·전자·컴퓨터)</th>\n",
              "      <td>1</td>\n",
              "    </tr>\n",
              "    <tr>\n",
              "      <th>국가·지방행정 사무원</th>\n",
              "      <td>1</td>\n",
              "    </tr>\n",
              "    <tr>\n",
              "      <th>일반기계 조립원</th>\n",
              "      <td>1</td>\n",
              "    </tr>\n",
              "    <tr>\n",
              "      <th>전자 부품·제품 생산기계 조작원</th>\n",
              "      <td>1</td>\n",
              "    </tr>\n",
              "  </tbody>\n",
              "</table>\n",
              "<p>282 rows × 1 columns</p>\n",
              "</div><br><label><b>dtype:</b> int64</label>"
            ]
          },
          "metadata": {},
          "execution_count": 7
        }
      ]
    },
    {
      "cell_type": "markdown",
      "source": [
        "# 데이터 분석(성별 and 나이대)"
      ],
      "metadata": {
        "id": "WYGCXBWKgQ0M"
      }
    },
    {
      "cell_type": "code",
      "source": [
        "조건 = \"SEX == '남'\"\n",
        "filtered_df = df.query(조건)\n",
        "\n",
        "filtered_count = len(filtered_df)\n",
        "\n",
        "total_count = len(df)\n",
        "\n",
        "percentage = (filtered_count / total_count) * 100\n",
        "\n",
        "print(f\"조건에 맞는 인원 수: {filtered_count}명\")\n",
        "print(f\"전체 인원 수: {total_count}명\")\n",
        "print(f\"비율: {percentage:.2f}%\")"
      ],
      "metadata": {
        "colab": {
          "base_uri": "https://localhost:8080/"
        },
        "id": "CGvXQzfcgV_u",
        "outputId": "606d1300-8805-418c-b03f-88e967996435"
      },
      "execution_count": null,
      "outputs": [
        {
          "output_type": "stream",
          "name": "stdout",
          "text": [
            "조건에 맞는 인원 수: 2480명\n",
            "전체 인원 수: 3683명\n",
            "비율: 67.34%\n"
          ]
        }
      ]
    },
    {
      "cell_type": "code",
      "source": [
        "조건 = \"SEX == '여'\"\n",
        "filtered_df = df.query(조건)\n",
        "\n",
        "filtered_count = len(filtered_df)\n",
        "\n",
        "total_count = len(df)\n",
        "\n",
        "percentage = (filtered_count / total_count) * 100\n",
        "\n",
        "print(f\"조건에 맞는 인원 수: {filtered_count}명\")\n",
        "print(f\"전체 인원 수: {total_count}명\")\n",
        "print(f\"비율: {percentage:.2f}%\")"
      ],
      "metadata": {
        "colab": {
          "base_uri": "https://localhost:8080/"
        },
        "id": "V3dSvdCRgbRJ",
        "outputId": "5163defa-478d-4ac6-b1b7-4d3ec8fd563a"
      },
      "execution_count": null,
      "outputs": [
        {
          "output_type": "stream",
          "name": "stdout",
          "text": [
            "조건에 맞는 인원 수: 1203명\n",
            "전체 인원 수: 3683명\n",
            "비율: 32.66%\n"
          ]
        }
      ]
    },
    {
      "cell_type": "code",
      "source": [
        "조건 = \"SEX == '남' and AGE <= 40\"\n",
        "filtered_df = df.query(조건)\n",
        "\n",
        "filtered_count = len(filtered_df)\n",
        "\n",
        "total_count = len(df)\n",
        "\n",
        "percentage = (filtered_count / total_count) * 100\n",
        "\n",
        "print(f\"조건에 맞는 인원 수: {filtered_count}명\")\n",
        "print(f\"전체 인원 수: {total_count}명\")\n",
        "print(f\"비율: {percentage:.2f}%\")"
      ],
      "metadata": {
        "colab": {
          "base_uri": "https://localhost:8080/"
        },
        "id": "95VKUJvggj1u",
        "outputId": "d87ff7e4-068d-46e0-8496-6ae06f8d35af"
      },
      "execution_count": null,
      "outputs": [
        {
          "output_type": "stream",
          "name": "stdout",
          "text": [
            "조건에 맞는 인원 수: 7명\n",
            "전체 인원 수: 3683명\n",
            "비율: 0.19%\n"
          ]
        }
      ]
    },
    {
      "cell_type": "code",
      "source": [
        "조건 = \"SEX == '남' and AGE > 40\"\n",
        "filtered_df = df.query(조건)\n",
        "\n",
        "filtered_count = len(filtered_df)\n",
        "\n",
        "total_count = len(df)\n",
        "\n",
        "percentage = (filtered_count / total_count) * 100\n",
        "\n",
        "print(f\"조건에 맞는 인원 수: {filtered_count}명\")\n",
        "print(f\"전체 인원 수: {total_count}명\")\n",
        "print(f\"비율: {percentage:.2f}%\")"
      ],
      "metadata": {
        "colab": {
          "base_uri": "https://localhost:8080/"
        },
        "id": "oI6whi9rgv_R",
        "outputId": "a6f9cfb8-ae05-4ac6-c8e8-24c2e5b0c0fe"
      },
      "execution_count": null,
      "outputs": [
        {
          "output_type": "stream",
          "name": "stdout",
          "text": [
            "조건에 맞는 인원 수: 2473명\n",
            "전체 인원 수: 3683명\n",
            "비율: 67.15%\n"
          ]
        }
      ]
    },
    {
      "cell_type": "code",
      "source": [
        "조건 = \"SEX == '여' and AGE <= 40\"\n",
        "filtered_df = df.query(조건)\n",
        "\n",
        "filtered_count = len(filtered_df)\n",
        "\n",
        "total_count = len(df)\n",
        "\n",
        "percentage = (filtered_count / total_count) * 100\n",
        "\n",
        "print(f\"조건에 맞는 인원 수: {filtered_count}명\")\n",
        "print(f\"전체 인원 수: {total_count}명\")\n",
        "print(f\"비율: {percentage:.2f}%\")"
      ],
      "metadata": {
        "colab": {
          "base_uri": "https://localhost:8080/"
        },
        "id": "PI4jZNuxgncw",
        "outputId": "44902fdd-10f5-4315-f860-bd921261312d"
      },
      "execution_count": null,
      "outputs": [
        {
          "output_type": "stream",
          "name": "stdout",
          "text": [
            "조건에 맞는 인원 수: 1명\n",
            "전체 인원 수: 3683명\n",
            "비율: 0.03%\n"
          ]
        }
      ]
    },
    {
      "cell_type": "code",
      "source": [
        "조건 = \"SEX == '여' and AGE > 40\"\n",
        "filtered_df = df.query(조건)\n",
        "\n",
        "filtered_count = len(filtered_df)\n",
        "\n",
        "total_count = len(df)\n",
        "\n",
        "percentage = (filtered_count / total_count) * 100\n",
        "\n",
        "print(f\"조건에 맞는 인원 수: {filtered_count}명\")\n",
        "print(f\"전체 인원 수: {total_count}명\")\n",
        "print(f\"비율: {percentage:.2f}%\")"
      ],
      "metadata": {
        "colab": {
          "base_uri": "https://localhost:8080/"
        },
        "id": "ttWFyf1qg1Bo",
        "outputId": "48465094-a4d5-47e3-c7af-51e4fcdcf2e8"
      },
      "execution_count": null,
      "outputs": [
        {
          "output_type": "stream",
          "name": "stdout",
          "text": [
            "조건에 맞는 인원 수: 1202명\n",
            "전체 인원 수: 3683명\n",
            "비율: 32.64%\n"
          ]
        }
      ]
    },
    {
      "cell_type": "markdown",
      "source": [
        "# 데이터 분석(건물 경비원 (남/여) 비교 지역=(서울))"
      ],
      "metadata": {
        "id": "v-N1Dd7ge81z"
      }
    },
    {
      "cell_type": "code",
      "source": [
        "조건 = \"SEX == '남' and HOPE_JSSFC_CMMN_CODE_SE_NM_1 == '건물 경비원(청사,학교,병원,상가,빌딩,공장 등)' and WORK_AREA_CMMN_CODE_SE_1_1 == '서울'\"\n",
        "filtered_df = df.query(조건)\n",
        "\n",
        "filtered_count = len(filtered_df)\n",
        "\n",
        "total_count = len(df)\n",
        "\n",
        "percentage = (filtered_count / total_count) * 100\n",
        "\n",
        "print(f\"조건에 맞는 인원 수: {filtered_count}명\")\n",
        "print(f\"전체 인원 수: {total_count}명\")\n",
        "print(f\"비율: {percentage:.2f}%\")"
      ],
      "metadata": {
        "colab": {
          "base_uri": "https://localhost:8080/"
        },
        "id": "8XuwSPjgfOB4",
        "outputId": "e05735a9-5379-4a7d-c4a1-6a7685baf6a0"
      },
      "execution_count": null,
      "outputs": [
        {
          "output_type": "stream",
          "name": "stdout",
          "text": [
            "조건에 맞는 인원 수: 463명\n",
            "전체 인원 수: 3683명\n",
            "비율: 12.57%\n"
          ]
        }
      ]
    },
    {
      "cell_type": "code",
      "source": [
        "조건 = \"SEX == '여' and HOPE_JSSFC_CMMN_CODE_SE_NM_1 == '건물 경비원(청사,학교,병원,상가,빌딩,공장 등)' and WORK_AREA_CMMN_CODE_SE_1_1 == '서울'\"\n",
        "filtered_df = df.query(조건)\n",
        "\n",
        "filtered_count = len(filtered_df)\n",
        "\n",
        "total_count = len(df)\n",
        "\n",
        "percentage = (filtered_count / total_count) * 100\n",
        "\n",
        "print(f\"조건에 맞는 인원 수: {filtered_count}명\")\n",
        "print(f\"전체 인원 수: {total_count}명\")\n",
        "print(f\"비율: {percentage:.2f}%\")"
      ],
      "metadata": {
        "colab": {
          "base_uri": "https://localhost:8080/"
        },
        "id": "1ofv-Y3DfxtU",
        "outputId": "85884468-70d6-461d-f974-4d56bdbbf693"
      },
      "execution_count": null,
      "outputs": [
        {
          "output_type": "stream",
          "name": "stdout",
          "text": [
            "조건에 맞는 인원 수: 0명\n",
            "전체 인원 수: 3683명\n",
            "비율: 0.00%\n"
          ]
        }
      ]
    },
    {
      "cell_type": "markdown",
      "source": [
        "# 데이터 분석 (건물 청소원(공공건물,아파트,사무실,병원,상가,공장 등) 비교 지역= (서울))"
      ],
      "metadata": {
        "id": "y2uBsFd-hIWn"
      }
    },
    {
      "cell_type": "code",
      "source": [
        "조건 = \"SEX == '남' and HOPE_JSSFC_CMMN_CODE_SE_NM_1 == '건물 청소원(공공건물,아파트,사무실,병원,상가,공장 등)' and WORK_AREA_CMMN_CODE_SE_1_1 == '서울'\"\n",
        "filtered_df = df.query(조건)\n",
        "\n",
        "filtered_count = len(filtered_df)\n",
        "\n",
        "total_count = len(df)\n",
        "\n",
        "percentage = (filtered_count / total_count) * 100\n",
        "\n",
        "print(f\"조건에 맞는 인원 수: {filtered_count}명\")\n",
        "print(f\"전체 인원 수: {total_count}명\")\n",
        "print(f\"비율: {percentage:.2f}%\")"
      ],
      "metadata": {
        "colab": {
          "base_uri": "https://localhost:8080/"
        },
        "id": "6FX9rNlRhSfY",
        "outputId": "f4dc2dbd-db81-4359-b21b-6f7812e2f62b"
      },
      "execution_count": null,
      "outputs": [
        {
          "output_type": "stream",
          "name": "stdout",
          "text": [
            "조건에 맞는 인원 수: 271명\n",
            "전체 인원 수: 3683명\n",
            "비율: 7.36%\n"
          ]
        }
      ]
    },
    {
      "cell_type": "code",
      "source": [
        "조건 = \"SEX == '여' and HOPE_JSSFC_CMMN_CODE_SE_NM_1 == '건물 청소원(공공건물,아파트,사무실,병원,상가,공장 등)' and WORK_AREA_CMMN_CODE_SE_1_1 == '서울'\"\n",
        "filtered_df = df.query(조건)\n",
        "\n",
        "filtered_count = len(filtered_df)\n",
        "\n",
        "total_count = len(df)\n",
        "\n",
        "percentage = (filtered_count / total_count) * 100\n",
        "\n",
        "print(f\"조건에 맞는 인원 수: {filtered_count}명\")\n",
        "print(f\"전체 인원 수: {total_count}명\")\n",
        "print(f\"비율: {percentage:.2f}%\")"
      ],
      "metadata": {
        "colab": {
          "base_uri": "https://localhost:8080/"
        },
        "id": "18NhGpNqhwGJ",
        "outputId": "150cf695-f0db-4343-ad90-23a870d8a75e"
      },
      "execution_count": null,
      "outputs": [
        {
          "output_type": "stream",
          "name": "stdout",
          "text": [
            "조건에 맞는 인원 수: 300명\n",
            "전체 인원 수: 3683명\n",
            "비율: 8.15%\n"
          ]
        }
      ]
    },
    {
      "cell_type": "markdown",
      "source": [
        "# 여성들 중에서 건물 청소원의 비율과 남성들 중에서 건물 경비원의 비율 분석"
      ],
      "metadata": {
        "id": "axVXfR_QEYBZ"
      }
    },
    {
      "cell_type": "code",
      "source": [
        "조건 = \"SEX == '남' and HOPE_JSSFC_CMMN_CODE_SE_NM_1 == '건물 경비원(청사,학교,병원,상가,빌딩,공장 등)' and WORK_AREA_CMMN_CODE_SE_1_1 == '서울'\"\n",
        "filtered_df = df.query(조건)\n",
        "\n",
        "filtered_count = len(filtered_df)\n",
        "\n",
        "조건2 = '''SEX == '남' '''\n",
        "filltered_df2 = df.query(조건2)\n",
        "\n",
        "total_count = len(filltered_df2)\n",
        "\n",
        "percentage = (filtered_count / total_count) * 100\n",
        "\n",
        "print(f\"조건에 맞는 인원 수: {filtered_count}명\")\n",
        "print(f\"전체 인원 수: {total_count}명\")\n",
        "print(f\"비율: {percentage:.2f}%\")"
      ],
      "metadata": {
        "colab": {
          "base_uri": "https://localhost:8080/"
        },
        "id": "uGVqjstQEhjO",
        "outputId": "d20a264a-d61f-49cd-b2c1-4e387c94e409"
      },
      "execution_count": null,
      "outputs": [
        {
          "output_type": "stream",
          "name": "stdout",
          "text": [
            "조건에 맞는 인원 수: 463명\n",
            "전체 인원 수: 2480명\n",
            "비율: 18.67%\n"
          ]
        }
      ]
    },
    {
      "cell_type": "code",
      "source": [
        "조건 = \"SEX == '남' and HOPE_JSSFC_CMMN_CODE_SE_NM_1 == '건물 청소원(공공건물,아파트,사무실,병원,상가,공장 등)' and WORK_AREA_CMMN_CODE_SE_1_1 == '서울'\"\n",
        "filtered_df = df.query(조건)\n",
        "\n",
        "filtered_count = len(filtered_df)\n",
        "\n",
        "조건2 = '''SEX == '남' '''\n",
        "filltered_df2 = df.query(조건2)\n",
        "\n",
        "total_count = len(filltered_df2)\n",
        "\n",
        "percentage = (filtered_count / total_count) * 100\n",
        "\n",
        "print(f\"조건에 맞는 인원 수: {filtered_count}명\")\n",
        "print(f\"전체 인원 수: {total_count}명\")\n",
        "print(f\"비율: {percentage:.2f}%\")"
      ],
      "metadata": {
        "colab": {
          "base_uri": "https://localhost:8080/"
        },
        "id": "Ygl8U5DAFYVu",
        "outputId": "a4c21eed-e3c4-40b7-d49c-595806cb864e"
      },
      "execution_count": null,
      "outputs": [
        {
          "output_type": "stream",
          "name": "stdout",
          "text": [
            "조건에 맞는 인원 수: 271명\n",
            "전체 인원 수: 2480명\n",
            "비율: 10.93%\n"
          ]
        }
      ]
    },
    {
      "cell_type": "code",
      "source": [
        "조건 = \"SEX == '여' and HOPE_JSSFC_CMMN_CODE_SE_NM_1 == '건물 청소원(공공건물,아파트,사무실,병원,상가,공장 등)' and WORK_AREA_CMMN_CODE_SE_1_1 == '서울'\"\n",
        "filtered_df = df.query(조건)\n",
        "\n",
        "filtered_count = len(filtered_df)\n",
        "\n",
        "조건2 = '''SEX == '여' '''\n",
        "filltered_df2 = df.query(조건2)\n",
        "\n",
        "total_count = len(filltered_df2)\n",
        "\n",
        "percentage = (filtered_count / total_count) * 100\n",
        "\n",
        "print(f\"조건에 맞는 인원 수: {filtered_count}명\")\n",
        "print(f\"전체 인원 수: {total_count}명\")\n",
        "print(f\"비율: {percentage:.2f}%\")"
      ],
      "metadata": {
        "colab": {
          "base_uri": "https://localhost:8080/"
        },
        "id": "0vPiytqIFGds",
        "outputId": "21b40878-5a13-40bc-a3ac-c51721140705"
      },
      "execution_count": null,
      "outputs": [
        {
          "output_type": "stream",
          "name": "stdout",
          "text": [
            "조건에 맞는 인원 수: 300명\n",
            "전체 인원 수: 1203명\n",
            "비율: 24.94%\n"
          ]
        }
      ]
    },
    {
      "cell_type": "code",
      "source": [
        "조건 = \"SEX == '여' and HOPE_JSSFC_CMMN_CODE_SE_NM_1 == '건물 경비원(청사,학교,병원,상가,빌딩,공장 등)' and WORK_AREA_CMMN_CODE_SE_1_1 == '서울'\"\n",
        "filtered_df = df.query(조건)\n",
        "\n",
        "filtered_count = len(filtered_df)\n",
        "\n",
        "조건2 = '''SEX == '여' '''\n",
        "filltered_df2 = df.query(조건2)\n",
        "\n",
        "total_count = len(filltered_df2)\n",
        "\n",
        "percentage = (filtered_count / total_count) * 100\n",
        "\n",
        "print(f\"조건에 맞는 인원 수: {filtered_count}명\")\n",
        "print(f\"전체 인원 수: {total_count}명\")\n",
        "print(f\"비율: {percentage:.2f}%\")"
      ],
      "metadata": {
        "colab": {
          "base_uri": "https://localhost:8080/"
        },
        "id": "3sHIYCixFjh6",
        "outputId": "7911e3a0-aae4-4930-81f7-3041b760b34d"
      },
      "execution_count": null,
      "outputs": [
        {
          "output_type": "stream",
          "name": "stdout",
          "text": [
            "조건에 맞는 인원 수: 0명\n",
            "전체 인원 수: 1203명\n",
            "비율: 0.00%\n"
          ]
        }
      ]
    },
    {
      "cell_type": "markdown",
      "source": [
        "# 성별 대비 승인 비율"
      ],
      "metadata": {
        "id": "Q5YJ896HGX3n"
      }
    },
    {
      "cell_type": "code",
      "source": [
        "조건 = \"SEX == '남' and JBHNT_CRTFC_STTUS_CMMN_SE_NM == '승인' \"\n",
        "filtered_df = df.query(조건)\n",
        "\n",
        "filtered_count = len(filtered_df)\n",
        "\n",
        "조건2 = '''SEX == '남' '''\n",
        "filltered_df2 = df.query(조건2)\n",
        "\n",
        "total_count = len(filltered_df2)\n",
        "\n",
        "percentage = (filtered_count / total_count) * 100\n",
        "\n",
        "print(f\"조건에 맞는 인원 수: {filtered_count}명\")\n",
        "print(f\"전체 인원 수: {total_count}명\")\n",
        "print(f\"비율: {percentage:.2f}%\")"
      ],
      "metadata": {
        "colab": {
          "base_uri": "https://localhost:8080/"
        },
        "id": "nYI7yiPnGZ0X",
        "outputId": "c1cf6bb3-c16c-4a0a-d37d-e8e794987561"
      },
      "execution_count": 8,
      "outputs": [
        {
          "output_type": "stream",
          "name": "stdout",
          "text": [
            "조건에 맞는 인원 수: 1069명\n",
            "전체 인원 수: 2480명\n",
            "비율: 43.10%\n"
          ]
        }
      ]
    },
    {
      "cell_type": "code",
      "source": [
        "labels = ['남성(승인이 된 인원)', '남성 인원']\n",
        "values = [filtered_count, total_count]\n",
        "\n",
        "# 그래프 생성\n",
        "plt.figure(figsize=(6, 5))\n",
        "plt.bar(labels, values, color=['blue', 'gray'])\n",
        "\n",
        "# 값 표시\n",
        "for i, v in enumerate(values):\n",
        "    plt.text(i, v + (total_count * 0.02), f'{v}명', ha='center', fontsize=12)\n",
        "\n",
        "# 제목 및 레이블 추가\n",
        "plt.title('조건에 맞는 인원과 전체 인원 비교', fontsize=14)\n",
        "plt.ylabel('인원 수', fontsize=12)\n",
        "\n",
        "# 비율 표시\n",
        "plt.text(0, total_count * 0.5, f'비율: {percentage:.2f}%', ha='center', fontsize=14, color='red')\n",
        "\n",
        "# 그래프 출력\n",
        "plt.show()"
      ],
      "metadata": {
        "colab": {
          "base_uri": "https://localhost:8080/",
          "height": 469
        },
        "id": "1eINfWuuKaEV",
        "outputId": "93c6dfe7-9b17-4aa0-8e39-85c6f9f51c7b"
      },
      "execution_count": 21,
      "outputs": [
        {
          "output_type": "display_data",
          "data": {
            "text/plain": [
              "<Figure size 600x500 with 1 Axes>"
            ],
            "image/png": "[encoded data removed]"
          },
          "metadata": {}
        }
      ]
    },
    {
      "cell_type": "code",
      "source": [
        "조건 = \"SEX == '남' and JBHNT_CRTFC_STTUS_CMMN_SE_NM == '알선' \"\n",
        "filtered_df = df.query(조건)\n",
        "\n",
        "filtered_count = len(filtered_df)\n",
        "\n",
        "조건2 = '''SEX == '남' '''\n",
        "filltered_df2 = df.query(조건2)\n",
        "\n",
        "total_count = len(filltered_df2)\n",
        "\n",
        "percentage = (filtered_count / total_count) * 100\n",
        "\n",
        "print(f\"조건에 맞는 인원 수: {filtered_count}명\")\n",
        "print(f\"전체 인원 수: {total_count}명\")\n",
        "print(f\"비율: {percentage:.2f}%\")"
      ],
      "metadata": {
        "colab": {
          "base_uri": "https://localhost:8080/"
        },
        "id": "WPdEkJCWG11P",
        "outputId": "a9226218-3536-4d74-9e2a-151e17a49cc1"
      },
      "execution_count": 10,
      "outputs": [
        {
          "output_type": "stream",
          "name": "stdout",
          "text": [
            "조건에 맞는 인원 수: 1240명\n",
            "전체 인원 수: 2480명\n",
            "비율: 50.00%\n"
          ]
        }
      ]
    },
    {
      "cell_type": "code",
      "source": [
        "import matplotlib.pyplot as plt\n",
        "\n",
        "# 데이터\n",
        "labels = ['조건에 맞는 인원', '전체 인원']\n",
        "values = [filtered_count, total_count]\n",
        "\n",
        "# 그래프 생성\n",
        "plt.figure(figsize=(6, 5))\n",
        "bars = plt.bar(labels, values, color=['blue', 'gray'])\n",
        "\n",
        "# 값 표시 (막대 위에 배치)\n",
        "for bar in bars:\n",
        "    plt.text(bar.get_x() + bar.get_width() / 2, bar.get_height() + total_count * 0.02,\n",
        "             f'{int(bar.get_height())}명', ha='center', fontsize=12)\n",
        "\n",
        "# 비율 텍스트 (그래프 상단에 배치)\n",
        "plt.text(0.5, max(values) * 1.1, f'비율: {percentage:.2f}%',\n",
        "         ha='center', fontsize=14, color='red', fontweight='bold')\n",
        "\n",
        "# 제목 및 레이블 추가\n",
        "plt.title('조건에 맞는 인원과 전체 인원 비교', fontsize=14)\n",
        "plt.ylabel('인원 수', fontsize=12)\n",
        "\n",
        "# y축 범위 조정 (비율 텍스트가 겹치지 않도록)\n",
        "plt.ylim(0, max(values) * 1.2)\n",
        "\n",
        "# 그래프 출력\n",
        "plt.show()"
      ],
      "metadata": {
        "colab": {
          "base_uri": "https://localhost:8080/",
          "height": 468
        },
        "id": "Ye4-WPCTKXej",
        "outputId": "033b29f4-6f54-4eb6-d1fd-988a805a04ab"
      },
      "execution_count": 11,
      "outputs": [
        {
          "output_type": "display_data",
          "data": {
            "text/plain": [
              "<Figure size 600x500 with 1 Axes>"
            ],
            "image/png": "[encoded data removed]"
          },
          "metadata": {}
        }
      ]
    },
    {
      "cell_type": "code",
      "source": [
        "조건 = \"SEX == '남' and JBHNT_CRTFC_STTUS_CMMN_SE_NM == '알선대기' \"\n",
        "filtered_df = df.query(조건)\n",
        "\n",
        "filtered_count = len(filtered_df)\n",
        "\n",
        "조건2 = '''SEX == '남' '''\n",
        "filltered_df2 = df.query(조건2)\n",
        "\n",
        "total_count = len(filltered_df2)\n",
        "\n",
        "percentage = (filtered_count / total_count) * 100\n",
        "\n",
        "print(f\"조건에 맞는 인원 수: {filtered_count}명\")\n",
        "print(f\"전체 인원 수: {total_count}명\")\n",
        "print(f\"비율: {percentage:.2f}%\")"
      ],
      "metadata": {
        "colab": {
          "base_uri": "https://localhost:8080/"
        },
        "id": "sRABcr8UG4zn",
        "outputId": "d2f98ee3-4e1c-4901-a731-4f56f0b45a40"
      },
      "execution_count": 13,
      "outputs": [
        {
          "output_type": "stream",
          "name": "stdout",
          "text": [
            "조건에 맞는 인원 수: 171명\n",
            "전체 인원 수: 2480명\n",
            "비율: 6.90%\n"
          ]
        }
      ]
    },
    {
      "cell_type": "code",
      "source": [
        "import matplotlib.pyplot as plt\n",
        "\n",
        "# 데이터\n",
        "labels = ['조건에 맞는 인원', '전체 인원']\n",
        "values = [filtered_count, total_count]\n",
        "\n",
        "# 그래프 생성\n",
        "plt.figure(figsize=(6, 5))\n",
        "bars = plt.bar(labels, values, color=['blue', 'gray'])\n",
        "\n",
        "# 값 표시 (막대 위에 배치)\n",
        "for bar in bars:\n",
        "    plt.text(bar.get_x() + bar.get_width() / 2, bar.get_height() + total_count * 0.02,\n",
        "             f'{int(bar.get_height())}명', ha='center', fontsize=12)\n",
        "\n",
        "# 비율 텍스트 (그래프 상단에 배치)\n",
        "plt.text(0.5, max(values) * 1.1, f'비율: {percentage:.2f}%',\n",
        "         ha='center', fontsize=14, color='red', fontweight='bold')\n",
        "\n",
        "# 제목 및 레이블 추가\n",
        "plt.title('조건에 맞는 인원과 전체 인원 비교', fontsize=14)\n",
        "plt.ylabel('인원 수', fontsize=12)\n",
        "\n",
        "# y축 범위 조정 (비율 텍스트가 겹치지 않도록)\n",
        "plt.ylim(0, max(values) * 1.2)\n",
        "\n",
        "# 그래프 출력\n",
        "plt.show()"
      ],
      "metadata": {
        "colab": {
          "base_uri": "https://localhost:8080/",
          "height": 468
        },
        "id": "J1BSLl2-KTwb",
        "outputId": "ececc997-ddc6-44a8-9e1d-e5faf4cf99f3"
      },
      "execution_count": 14,
      "outputs": [
        {
          "output_type": "display_data",
          "data": {
            "text/plain": [
              "<Figure size 600x500 with 1 Axes>"
            ],
            "image/png": "[encoded data removed]"
          },
          "metadata": {}
        }
      ]
    },
    {
      "cell_type": "code",
      "source": [
        "조건 = \"SEX == '여' and JBHNT_CRTFC_STTUS_CMMN_SE_NM == '승인' \"\n",
        "filtered_df = df.query(조건)\n",
        "\n",
        "filtered_count = len(filtered_df)\n",
        "\n",
        "조건2 = '''SEX == '여' '''\n",
        "filltered_df2 = df.query(조건2)\n",
        "\n",
        "total_count = len(filltered_df2)\n",
        "\n",
        "percentage = (filtered_count / total_count) * 100\n",
        "\n",
        "print(f\"조건에 맞는 인원 수: {filtered_count}명\")\n",
        "print(f\"전체 인원 수: {total_count}명\")\n",
        "print(f\"비율: {percentage:.2f}%\")"
      ],
      "metadata": {
        "colab": {
          "base_uri": "https://localhost:8080/"
        },
        "id": "waTxVwQoG7N7",
        "outputId": "09172194-78bc-4f39-f6a9-55c8b3f5b454"
      },
      "execution_count": 19,
      "outputs": [
        {
          "output_type": "stream",
          "name": "stdout",
          "text": [
            "조건에 맞는 인원 수: 568명\n",
            "전체 인원 수: 1203명\n",
            "비율: 47.22%\n"
          ]
        }
      ]
    },
    {
      "cell_type": "code",
      "source": [
        "import matplotlib.pyplot as plt\n",
        "\n",
        "# 데이터\n",
        "labels = ['조건에 맞는 인원', '전체 인원']\n",
        "values = [filtered_count, total_count]\n",
        "\n",
        "# 그래프 생성\n",
        "plt.figure(figsize=(6, 5))\n",
        "bars = plt.bar(labels, values, color=['blue', 'gray'])\n",
        "\n",
        "# 값 표시 (막대 위에 배치)\n",
        "for bar in bars:\n",
        "    plt.text(bar.get_x() + bar.get_width() / 2, bar.get_height() + total_count * 0.02,\n",
        "             f'{int(bar.get_height())}명', ha='center', fontsize=12)\n",
        "\n",
        "# 비율 텍스트 (그래프 상단에 배치)\n",
        "plt.text(0.5, max(values) * 1.1, f'비율: {percentage:.2f}%',\n",
        "         ha='center', fontsize=14, color='red', fontweight='bold')\n",
        "\n",
        "# 제목 및 레이블 추가\n",
        "plt.title('조건에 맞는 인원과 전체 인원 비교', fontsize=14)\n",
        "plt.ylabel('인원 수', fontsize=12)\n",
        "\n",
        "# y축 범위 조정 (비율 텍스트가 겹치지 않도록)\n",
        "plt.ylim(0, max(values) * 1.2)\n",
        "\n",
        "# 그래프 출력\n",
        "plt.show()"
      ],
      "metadata": {
        "colab": {
          "base_uri": "https://localhost:8080/",
          "height": 468
        },
        "id": "AtPMmNXyKGkf",
        "outputId": "14de7a47-2b03-4662-91ba-c0b12147016f"
      },
      "execution_count": 20,
      "outputs": [
        {
          "output_type": "display_data",
          "data": {
            "text/plain": [
              "<Figure size 600x500 with 1 Axes>"
            ],
            "image/png": "[encoded data removed]"
          },
          "metadata": {}
        }
      ]
    },
    {
      "cell_type": "code",
      "source": [
        "조건 = \"SEX == '여' and JBHNT_CRTFC_STTUS_CMMN_SE_NM == '알선대기' \"\n",
        "filtered_df = df.query(조건)\n",
        "\n",
        "filtered_count = len(filtered_df)\n",
        "\n",
        "조건2 = '''SEX == '여' '''\n",
        "filltered_df2 = df.query(조건2)\n",
        "\n",
        "total_count = len(filltered_df2)\n",
        "\n",
        "percentage = (filtered_count / total_count) * 100\n",
        "\n",
        "print(f\"조건에 맞는 인원 수: {filtered_count}명\")\n",
        "print(f\"전체 인원 수: {total_count}명\")\n",
        "print(f\"비율: {percentage:.2f}%\")"
      ],
      "metadata": {
        "colab": {
          "base_uri": "https://localhost:8080/"
        },
        "id": "NJi4pfw_HKid",
        "outputId": "65b0a48b-5fb7-4e4f-d240-33bd570045fd"
      },
      "execution_count": 15,
      "outputs": [
        {
          "output_type": "stream",
          "name": "stdout",
          "text": [
            "조건에 맞는 인원 수: 57명\n",
            "전체 인원 수: 1203명\n",
            "비율: 4.74%\n"
          ]
        }
      ]
    },
    {
      "cell_type": "code",
      "source": [
        "import matplotlib.pyplot as plt\n",
        "\n",
        "# 데이터\n",
        "labels = ['조건에 맞는 인원', '전체 인원']\n",
        "values = [filtered_count, total_count]\n",
        "\n",
        "# 그래프 생성\n",
        "plt.figure(figsize=(6, 5))\n",
        "bars = plt.bar(labels, values, color=['blue', 'gray'])\n",
        "\n",
        "# 값 표시 (막대 위에 배치)\n",
        "for bar in bars:\n",
        "    plt.text(bar.get_x() + bar.get_width() / 2, bar.get_height() + total_count * 0.02,\n",
        "             f'{int(bar.get_height())}명', ha='center', fontsize=12)\n",
        "\n",
        "# 비율 텍스트 (그래프 상단에 배치)\n",
        "plt.text(0.5, max(values) * 1.1, f'비율: {percentage:.2f}%',\n",
        "         ha='center', fontsize=14, color='red', fontweight='bold')\n",
        "\n",
        "# 제목 및 레이블 추가\n",
        "plt.title('조건에 맞는 인원과 전체 인원 비교', fontsize=14)\n",
        "plt.ylabel('인원 수', fontsize=12)\n",
        "\n",
        "# y축 범위 조정 (비율 텍스트가 겹치지 않도록)\n",
        "plt.ylim(0, max(values) * 1.2)\n",
        "\n",
        "# 그래프 출력\n",
        "plt.show()"
      ],
      "metadata": {
        "colab": {
          "base_uri": "https://localhost:8080/",
          "height": 468
        },
        "id": "Y2Vm-f_0J_R9",
        "outputId": "8fa094d7-db24-493f-e198-06b7c90d433c"
      },
      "execution_count": 16,
      "outputs": [
        {
          "output_type": "display_data",
          "data": {
            "text/plain": [
              "<Figure size 600x500 with 1 Axes>"
            ],
            "image/png": "[encoded data removed]"
          },
          "metadata": {}
        }
      ]
    },
    {
      "cell_type": "code",
      "source": [
        "조건 = \"SEX == '여' and JBHNT_CRTFC_STTUS_CMMN_SE_NM == '알선' \"\n",
        "filtered_df = df.query(조건)\n",
        "\n",
        "filtered_count = len(filtered_df)\n",
        "\n",
        "조건2 = '''SEX == '여' '''\n",
        "filltered_df2 = df.query(조건2)\n",
        "\n",
        "total_count = len(filltered_df2)\n",
        "\n",
        "percentage = (filtered_count / total_count) * 100\n",
        "\n",
        "print(f\"조건에 맞는 인원 수: {filtered_count}명\")\n",
        "print(f\"전체 인원 수: {total_count}명\")\n",
        "print(f\"비율: {percentage:.2f}%\")"
      ],
      "metadata": {
        "colab": {
          "base_uri": "https://localhost:8080/"
        },
        "id": "KfkQzlG2HQlW",
        "outputId": "66cb6b42-324c-4ea9-8112-5bd2a621a6f9"
      },
      "execution_count": 17,
      "outputs": [
        {
          "output_type": "stream",
          "name": "stdout",
          "text": [
            "조건에 맞는 인원 수: 578명\n",
            "전체 인원 수: 1203명\n",
            "비율: 48.05%\n"
          ]
        }
      ]
    },
    {
      "cell_type": "code",
      "source": [
        "import matplotlib.pyplot as plt\n",
        "\n",
        "# 데이터\n",
        "labels = ['조건에 맞는 인원', '전체 인원']\n",
        "values = [filtered_count, total_count]\n",
        "\n",
        "# 그래프 생성\n",
        "plt.figure(figsize=(6, 5))\n",
        "bars = plt.bar(labels, values, color=['blue', 'gray'])\n",
        "\n",
        "# 값 표시 (막대 위에 배치)\n",
        "for bar in bars:\n",
        "    plt.text(bar.get_x() + bar.get_width() / 2, bar.get_height() + total_count * 0.02,\n",
        "             f'{int(bar.get_height())}명', ha='center', fontsize=12)\n",
        "\n",
        "# 비율 텍스트 (그래프 상단에 배치)\n",
        "plt.text(0.5, max(values) * 1.1, f'비율: {percentage:.2f}%',\n",
        "         ha='center', fontsize=14, color='red', fontweight='bold')\n",
        "\n",
        "# 제목 및 레이블 추가\n",
        "plt.title('조건에 맞는 인원과 전체 인원 비교', fontsize=14)\n",
        "plt.ylabel('인원 수', fontsize=12)\n",
        "\n",
        "# y축 범위 조정 (비율 텍스트가 겹치지 않도록)\n",
        "plt.ylim(0, max(values) * 1.2)\n",
        "\n",
        "# 그래프 출력\n",
        "plt.show()"
      ],
      "metadata": {
        "colab": {
          "base_uri": "https://localhost:8080/",
          "height": 468
        },
        "id": "zHjboN16JtFe",
        "outputId": "459730e7-5f7e-44e3-d2ea-a24349a6e10e"
      },
      "execution_count": 18,
      "outputs": [
        {
          "output_type": "display_data",
          "data": {
            "text/plain": [
              "<Figure size 600x500 with 1 Axes>"
            ],
            "image/png": "[encoded data removed]"
          },
          "metadata": {}
        }
      ]
    }
  ]
}